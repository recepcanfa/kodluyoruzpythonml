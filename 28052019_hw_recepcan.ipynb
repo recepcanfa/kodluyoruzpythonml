{
 "cells": [
  {
   "cell_type": "code",
   "execution_count": 15,
   "metadata": {},
   "outputs": [
    {
     "data": {
      "text/html": [
       "<div>\n",
       "<style scoped>\n",
       "    .dataframe tbody tr th:only-of-type {\n",
       "        vertical-align: middle;\n",
       "    }\n",
       "\n",
       "    .dataframe tbody tr th {\n",
       "        vertical-align: top;\n",
       "    }\n",
       "\n",
       "    .dataframe thead th {\n",
       "        text-align: right;\n",
       "    }\n",
       "</style>\n",
       "<table border=\"1\" class=\"dataframe\">\n",
       "  <thead>\n",
       "    <tr style=\"text-align: right;\">\n",
       "      <th></th>\n",
       "      <th>Banka</th>\n",
       "      <th>Alış</th>\n",
       "      <th>Satış</th>\n",
       "    </tr>\n",
       "  </thead>\n",
       "  <tbody>\n",
       "    <tr>\n",
       "      <th>0</th>\n",
       "      <td>Akbank</td>\n",
       "      <td>7.6261</td>\n",
       "      <td>7.6300</td>\n",
       "    </tr>\n",
       "    <tr>\n",
       "      <th>1</th>\n",
       "      <td>Denizbank</td>\n",
       "      <td>7.3188</td>\n",
       "      <td>7.8941</td>\n",
       "    </tr>\n",
       "    <tr>\n",
       "      <th>2</th>\n",
       "      <td>QNB Finansbank</td>\n",
       "      <td>7.3172</td>\n",
       "      <td>7.9287</td>\n",
       "    </tr>\n",
       "    <tr>\n",
       "      <th>3</th>\n",
       "      <td>HSBC</td>\n",
       "      <td>7.6020</td>\n",
       "      <td>7.6231</td>\n",
       "    </tr>\n",
       "    <tr>\n",
       "      <th>4</th>\n",
       "      <td>İş Bankası</td>\n",
       "      <td>7.5970</td>\n",
       "      <td>7.6579</td>\n",
       "    </tr>\n",
       "    <tr>\n",
       "      <th>5</th>\n",
       "      <td>Merkez Bankası</td>\n",
       "      <td>7.5923</td>\n",
       "      <td>7.6319</td>\n",
       "    </tr>\n",
       "    <tr>\n",
       "      <th>6</th>\n",
       "      <td>Şekerbank</td>\n",
       "      <td>7.5939</td>\n",
       "      <td>7.6393</td>\n",
       "    </tr>\n",
       "    <tr>\n",
       "      <th>7</th>\n",
       "      <td>Vakıfbank</td>\n",
       "      <td>7.6033</td>\n",
       "      <td>7.6613</td>\n",
       "    </tr>\n",
       "    <tr>\n",
       "      <th>8</th>\n",
       "      <td>Yapıkredi</td>\n",
       "      <td>7.5880</td>\n",
       "      <td>7.6456</td>\n",
       "    </tr>\n",
       "  </tbody>\n",
       "</table>\n",
       "</div>"
      ],
      "text/plain": [
       "            Banka    Alış   Satış\n",
       "0          Akbank  7.6261  7.6300\n",
       "1       Denizbank  7.3188  7.8941\n",
       "2  QNB Finansbank  7.3172  7.9287\n",
       "3            HSBC  7.6020  7.6231\n",
       "4      İş Bankası  7.5970  7.6579\n",
       "5  Merkez Bankası  7.5923  7.6319\n",
       "6       Şekerbank  7.5939  7.6393\n",
       "7       Vakıfbank  7.6033  7.6613\n",
       "8       Yapıkredi  7.5880  7.6456"
      ]
     },
     "execution_count": 15,
     "metadata": {},
     "output_type": "execute_result"
    }
   ],
   "source": [
    "import requests\n",
    "from bs4 import BeautifulSoup as bs\n",
    "import pandas as pd\n",
    "banks = []\n",
    "alis = []\n",
    "satis = []\n",
    "url = \"https://kur.doviz.com/serbest-piyasa/sterlin\"\n",
    "content = requests.get(url).content\n",
    "content_parsed = bs(content,'html.parser')\n",
    "for i in range(0,25,3):\n",
    "    banks.append(content_parsed.findAll('td')[i].text)\n",
    "    alis.append(content_parsed.findAll('td')[i+1].text)\n",
    "    satis.append(content_parsed.findAll('td')[i+2].text)\n",
    "    \n",
    "df = pd.DataFrame({'Banka':banks,'Alış':alis,'Satış':satis})\n",
    "df[\"Alış\"] =  df[\"Alış\"].str.replace(',', \".\").astype(float)\n",
    "df[\"Satış\"] =  df[\"Satış\"].str.replace(',', \".\").astype(float)\n",
    "df"
   ]
  },
  {
   "cell_type": "code",
   "execution_count": 16,
   "metadata": {},
   "outputs": [
    {
     "data": {
      "image/png": "[encoded data removed]",
      "text/plain": [
       "<Figure size 432x288 with 1 Axes>"
      ]
     },
     "metadata": {
      "needs_background": "light"
     },
     "output_type": "display_data"
    }
   ],
   "source": [
    "import matplotlib.pyplot as plt\n",
    "fix, ax = plt.subplots()\n",
    "color=['tab:blue', 'tab:orange', 'tab:green', 'tab:red', 'tab:purple', 'tab:brown', 'tab:pink', 'tab:gray', 'tab:olive']\n",
    "for i in range(len(df)):\n",
    "    ax.scatter(df[\"Alış\"][i],df[\"Satış\"][i],c=color[i],s=60,label=df['Banka'][i])\n",
    "ax.legend(title=\"Banka\")\n",
    "ax.grid(True)\n",
    "plt.xlabel(\"Alış\")\n",
    "plt.ylabel(\"Satış\")\n",
    "plt.show()\n",
    "# color"
   ]
  }
 ],
 "metadata": {
  "kernelspec": {
   "display_name": "Python 3",
   "language": "python",
   "name": "python3"
  },
  "language_info": {
   "codemirror_mode": {
    "name": "ipython",
    "version": 3
   },
   "file_extension": ".py",
   "mimetype": "text/x-python",
   "name": "python",
   "nbconvert_exporter": "python",
   "pygments_lexer": "ipython3",
   "version": "3.6.7"
  }
 },
 "nbformat": 4,
 "nbformat_minor": 2
}
