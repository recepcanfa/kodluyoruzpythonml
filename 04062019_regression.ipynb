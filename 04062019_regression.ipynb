{
 "cells": [
  {
   "cell_type": "code",
   "execution_count": 33,
   "metadata": {},
   "outputs": [],
   "source": [
    "# Importing the libraries\n",
    "%matplotlib inline\n",
    "import matplotlib.pyplot as plt\n",
    "import pandas as pd\n",
    "import numpy as np\n",
    "# Read CSV file\n",
    "dataset = pd.read_csv(\"DATA.csv\")\n",
    "# dataset.head()\n",
    "parameters = dataset.iloc[:,0:4].values\n",
    "true_values = dataset.iloc[:,4].values"
   ]
  },
  {
   "cell_type": "code",
   "execution_count": 31,
   "metadata": {},
   "outputs": [
    {
     "name": "stdout",
     "output_type": "stream",
     "text": [
      "Weight 1 : 1.000381 \n",
      "Weight 2 : 2.999764 \n",
      "Weight 3 : 1.999628 \n",
      "Weight 4 : 3.999972 \n"
     ]
    }
   ],
   "source": [
    "# Apply Linear Regression to the Dataset\n",
    "from sklearn.linear_model import LinearRegression\n",
    "linear_regression = LinearRegression()\n",
    "linear_regression.fit(parameters, true_values)\n",
    "for idx, coefficient in enumerate(linear_regression.coef_):\n",
    "    print(\"Weight %d : %f \" % (idx+1, coefficient))\n"
   ]
  },
  {
   "cell_type": "code",
   "execution_count": 32,
   "metadata": {},
   "outputs": [
    {
     "name": "stdout",
     "output_type": "stream",
     "text": [
      "Intercept:  51.7174795161\n"
     ]
    }
   ],
   "source": [
    "print(\"Intercept: \", linear_regression.intercept_)"
   ]
  },
  {
   "cell_type": "code",
   "execution_count": 27,
   "metadata": {},
   "outputs": [
    {
     "name": "stdout",
     "output_type": "stream",
     "text": [
      "Result :  80.71615998905534\n"
     ]
    }
   ],
   "source": [
    "# Predict result with the Linear Regression\n",
    "predict_ = np.array([[1,2,3,4]])\n",
    "result = linear_regression.predict(predict_)\n",
    "print(\"Result : \", float(result))"
   ]
  }
 ],
 "metadata": {
  "kernelspec": {
   "display_name": "Python 3",
   "language": "python",
   "name": "python3"
  },
  "language_info": {
   "codemirror_mode": {
    "name": "ipython",
    "version": 3
   },
   "file_extension": ".py",
   "mimetype": "text/x-python",
   "name": "python",
   "nbconvert_exporter": "python",
   "pygments_lexer": "ipython3",
   "version": "3.6.7"
  }
 },
 "nbformat": 4,
 "nbformat_minor": 2
}
